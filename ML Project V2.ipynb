{
 "cells": [
  {
   "cell_type": "markdown",
   "metadata": {},
   "source": [
    "# ML Class Project\n",
    "   ## Movie Recomendation System Evaluation Using KNN and SVD\n",
    "        - KNN: We start with a matrix where rows represent movies and columns represent users. Each cell contains the rating a user gave to a movie. Missing ratings are treated as zeros. KNN computes the cosine similarity directly between rows (movies) of the user-item matrix\n",
    "\n",
    "        - SVD: Decomposes the user-item matrix into three matrices: A=U⋅Σ⋅V^T. The k largest singular values are retained to reduce dimensionality, which filters noise and focuses on the most significant patterns in the data. Cosine similarity is computed between the latent vectors of movies in the reduced space\n",
    "        \n",
    "        "
   ]
  },
  {
   "cell_type": "markdown",
   "metadata": {},
   "source": [
    "## Setup and Data Pre-Processing\n",
    "    Here we load all necesary libraries:\n",
    "        - Pandas\n",
    "        - Numpy\n",
    "        - Scipy\n",
    "        - Scikit-learn\n",
    "    A .bat is included that will install all libraries required (Having pip is necessary to run beforehand)\n",
    "    We also read the movies and ratings *.csv* files and load them as pandas dataframes\n",
    "    Then pivot the dataframe into a useful format and sparse the data"
   ]
  },
  {
   "cell_type": "code",
   "execution_count": 1,
   "metadata": {},
   "outputs": [],
   "source": [
    "from sklearn.neighbors import NearestNeighbors\n",
    "from sklearn.metrics.pairwise import cosine_similarity\n",
    "from scipy.sparse import csr_matrix\n",
    "from scipy.sparse.linalg import svds\n",
    "import pandas as pd\n",
    "import numpy as np\n",
    "\n",
    "# Load datasets and make them DataFrames\n",
    "movies = pd.read_csv('movies.csv')\n",
    "ratings = pd.read_csv('ratings.csv')\n",
    "\n",
    "# Create a pivot table: rows = movies, columns = users, values = ratings\n",
    "movie_user_matrix = ratings.pivot_table(index='movieId', columns='userId', values='rating').fillna(0)\n",
    "csr_data = csr_matrix(movie_user_matrix.values) # Sparse it"
   ]
  },
  {
   "cell_type": "markdown",
   "metadata": {},
   "source": [
    "## Searching the Database for Queried Movie\n",
    "The main program uses this function to find the movie the user is refering to. It is case-insensitive to prevent major errors in search. The searching method includes all results with the search query embedded in the movies title.\n",
    "The user will then input a number selecting the intended movie amongst the results. The function will return the movie ID in the database alongside its name."
   ]
  },
  {
   "cell_type": "code",
   "execution_count": 2,
   "metadata": {},
   "outputs": [],
   "source": [
    "# Function to search and select movie\n",
    "def find_movie_index_by_name(movie_title):\n",
    "    # Find matching movies containing the input string (case-insensitive)\n",
    "    matching_movies = movies[movies['title'].str.contains(movie_title, case=False, regex=False)]\n",
    "    if matching_movies.empty:\n",
    "        print(\"No movies found with that name. Please try again.\")\n",
    "        return None, None\n",
    "    \n",
    "    # Display matching movie options\n",
    "    print(\"\\nMatching Movies:\")\n",
    "    i=0\n",
    "    for idx, row in matching_movies.iterrows():\n",
    "        i=i+1;\n",
    "        print(f\"{i}. {row['title']}\")\n",
    "    \n",
    "    # Choose from findings\n",
    "    while True:\n",
    "        try:\n",
    "            choice = int(input(\"\\nEnter the number of the movie you want: \")) - 1\n",
    "            if choice < 0 or choice >= len(matching_movies):\n",
    "                print(\"Invalid choice. Please select a valid number.\")\n",
    "                continue\n",
    "            selected_movie = matching_movies.iloc[choice]\n",
    "            movie_idx = movie_user_matrix.index.get_loc(selected_movie['movieId'])\n",
    "            return movie_idx, selected_movie['title']\n",
    "        except ValueError:\n",
    "            print(\"Invalid input. Please enter a number.\")"
   ]
  },
  {
   "cell_type": "markdown",
   "metadata": {},
   "source": [
    "## Recomendation Algorithms\n",
    "## -- Recomendation Algorithm with KNN"
   ]
  },
  {
   "cell_type": "code",
   "execution_count": null,
   "metadata": {},
   "outputs": [],
   "source": [
    "# Train the KNN model\n",
    "knn = NearestNeighbors(metric='cosine', algorithm='brute', n_neighbors=15)\n",
    "knn.fit(csr_data)\n",
    "# Recommend similar movies\n",
    "def recommend_movies(movie_idx, n_recommendations=5):\n",
    "    # Get k-neighbors distances and indices\n",
    "    distances, indices = knn.kneighbors(csr_data[movie_idx].reshape(1, -1), \n",
    "                                        n_neighbors=n_recommendations+1)\n",
    "    \n",
    "    # Print\n",
    "    print(\"\\nRecommended Movies KNN:\")  \n",
    "    for i in range(1, len(indices.flatten())):  # Skip itself\n",
    "        movie_id = movie_user_matrix.index[indices.flatten()[i]]\n",
    "        movie_title = movies[movies['movieId'] == movie_id]['title'].values[0]\n",
    "        print(f\"{i}. {movie_title} (Similarity: {1 - distances.flatten()[i]:.2f})\")"
   ]
  },
  {
   "cell_type": "markdown",
   "metadata": {},
   "source": [
    "## -- Recomendation Algorithm with SVD"
   ]
  },
  {
   "cell_type": "code",
   "execution_count": null,
   "metadata": {},
   "outputs": [],
   "source": [
    "# Set SVD Model\n",
    "U, sigma, Vt = svds(csr_data, k=50)  # k is the number of latent factors\n",
    "sigma = np.diag(sigma)  # Convert sigma into a diagonal matrix\n",
    "\n",
    "# Compute the movie embeddings in latent space\n",
    "movie_embeddings = np.dot(U, sigma)  # Project movies into the reduced space\n",
    "\n",
    "# Compute cosine similarity between movies\n",
    "cosine_sim = cosine_similarity(movie_embeddings)\n",
    "def recommend_movies_svd(movie_idx,n_recommendations=5):\n",
    "    # Get Cosine Similarity and sort\n",
    "    sim_scores = cosine_sim[movie_idx]\n",
    "    similar_movies = sorted(enumerate(sim_scores), key=lambda x: x[1], reverse=True)\n",
    "    \n",
    "    # Print\n",
    "    print(f\"\\nRecommended Movies SVD:\")\n",
    "    count = 0\n",
    "    for i, score in similar_movies:\n",
    "        if i == movie_idx:  # Skip itself\n",
    "            continue\n",
    "        movie_id = movie_user_matrix.index[i]\n",
    "        movie_title = movies[movies['movieId'] == movie_id]['title'].values[0]\n",
    "        print(f\"{count + 1}. {movie_title} (Similarity: {score:.2f})\")\n",
    "        count += 1\n",
    "        if count >= n_recommendations:\n",
    "            break"
   ]
  },
  {
   "cell_type": "markdown",
   "metadata": {},
   "source": [
    "# Main\n",
    "This runs all necesary steps. It will first ask for a movie name or exit command. If a movie is found it will used the retrieved info from the search function to run the KNN and SVD algorithms and print their recommendations\n",
    "- The notebook format has shown to be unstalble at times in my computer. If any big problems arise while running I have included a *.py* file that will run better"
   ]
  },
  {
   "cell_type": "code",
   "execution_count": 5,
   "metadata": {},
   "outputs": [
    {
     "name": "stdout",
     "output_type": "stream",
     "text": [
      "Welcome to Angel's ML Movie Recommendation!\n",
      "\n",
      "Matching Movies:\n",
      "1. Dr. No (1962)\n",
      "\n",
      "You selected: Dr. No (1962)\n",
      "\n",
      "Recommended Movies:\n",
      "1. Thunderball (1965) (Similarity: 0.77)\n",
      "2. Live and Let Die (1973) (Similarity: 0.73)\n",
      "3. Goldfinger (1964) (Similarity: 0.72)\n",
      "4. On Her Majesty's Secret Service (1969) (Similarity: 0.67)\n",
      "5. From Russia with Love (1963) (Similarity: 0.67)\n",
      "\n",
      "Recommended Movies:\n",
      "1. Thunderball (1965) (Similarity: 0.93)\n",
      "2. Live and Let Die (1973) (Similarity: 0.90)\n",
      "3. Goldfinger (1964) (Similarity: 0.87)\n",
      "4. On Her Majesty's Secret Service (1969) (Similarity: 0.87)\n",
      "5. From Russia with Love (1963) (Similarity: 0.84)\n",
      "\n",
      "Matching Movies:\n",
      "1. Matrix, The (1999)\n",
      "2. Matrix Reloaded, The (2003)\n",
      "3. Matrix Revolutions, The (2003)\n",
      "4. Animatrix, The (2003)\n",
      "\n",
      "You selected: Matrix, The (1999)\n",
      "\n",
      "Recommended Movies:\n",
      "1. Fight Club (1999) (Similarity: 0.71)\n",
      "2. Star Wars: Episode V - The Empire Strikes Back (1980) (Similarity: 0.70)\n",
      "3. Saving Private Ryan (1998) (Similarity: 0.68)\n",
      "4. Star Wars: Episode IV - A New Hope (1977) (Similarity: 0.66)\n",
      "5. Star Wars: Episode VI - Return of the Jedi (1983) (Similarity: 0.66)\n",
      "\n",
      "Recommended Movies:\n",
      "1. Gladiator (2000) (Similarity: 0.90)\n",
      "2. Saving Private Ryan (1998) (Similarity: 0.89)\n",
      "3. Fight Club (1999) (Similarity: 0.89)\n",
      "4. Star Wars: Episode V - The Empire Strikes Back (1980) (Similarity: 0.87)\n",
      "5. Sixth Sense, The (1999) (Similarity: 0.86)\n",
      "\n",
      "Matching Movies:\n",
      "1. Kicking and Screaming (1995)\n",
      "2. Screamers (1995)\n",
      "3. Scream (1996)\n",
      "4. Scream 2 (1997)\n",
      "5. Scream 3 (2000)\n",
      "6. Kicking & Screaming (2005)\n",
      "7. Scream 4 (2011)\n",
      "\n",
      "You selected: Scream (1996)\n",
      "\n",
      "Recommended Movies:\n",
      "1. Scream 2 (1997) (Similarity: 0.55)\n",
      "2. Blair Witch Project, The (1999) (Similarity: 0.50)\n",
      "3. Jaws (1975) (Similarity: 0.49)\n",
      "4. Face/Off (1997) (Similarity: 0.48)\n",
      "5. Indiana Jones and the Temple of Doom (1984) (Similarity: 0.45)\n",
      "\n",
      "Recommended Movies:\n",
      "1. Blair Witch Project, The (1999) (Similarity: 0.80)\n",
      "2. Face/Off (1997) (Similarity: 0.75)\n",
      "3. Scream 2 (1997) (Similarity: 0.74)\n",
      "4. Wizard of Oz, The (1939) (Similarity: 0.73)\n",
      "5. Austin Powers: International Man of Mystery (1997) (Similarity: 0.72)\n",
      "Goodbye!\n"
     ]
    }
   ],
   "source": [
    "# Main (make it its own function to prevent slip ups)\n",
    "def main():\n",
    "    print(\"Welcome to Angel's ML Movie Recommendation!\")\n",
    "    while True:\n",
    "        user_input = input(\"\\nSearch for a movie by name (type 'exit' to quit): \").strip()\n",
    "        if user_input.lower() == 'exit':\n",
    "            print(\"Goodbye!\")\n",
    "            break\n",
    "        \n",
    "        movie_idx, movie_title = find_movie_index_by_name(user_input)\n",
    "        if movie_idx is not None:\n",
    "            print(f\"\\nYou selected: {movie_title}\")\n",
    "            recommend_movies(movie_idx)\n",
    "            recommend_movies_svd(movie_idx)\n",
    "\n",
    "# Call main (always bottom of the page)\n",
    "if __name__==\"__main__\":\n",
    "  main()"
   ]
  }
 ],
 "metadata": {
  "kernelspec": {
   "display_name": "Python 3",
   "language": "python",
   "name": "python3"
  },
  "language_info": {
   "codemirror_mode": {
    "name": "ipython",
    "version": 3
   },
   "file_extension": ".py",
   "mimetype": "text/x-python",
   "name": "python",
   "nbconvert_exporter": "python",
   "pygments_lexer": "ipython3",
   "version": "3.12.1"
  }
 },
 "nbformat": 4,
 "nbformat_minor": 2
}
